{
 "cells": [
  {
   "cell_type": "code",
   "execution_count": 1,
   "metadata": {},
   "outputs": [
    {
     "name": "stdout",
     "output_type": "stream",
     "text": [
      " Name : Cihat\n",
      "Surname : Güleryüz\n",
      "Welcome Cihat Güleryüz\n"
     ]
    }
   ],
   "source": [
    "name = input(str(\" Name : \"))\n",
    "surname = input(str(\"Surname : \"))\n",
    "print (\"Welcome \" + name + \" \" + surname)"
   ]
  },
  {
   "cell_type": "code",
   "execution_count": 3,
   "metadata": {},
   "outputs": [
    {
     "name": "stdout",
     "output_type": "stream",
     "text": [
      "Name :Ömer\n",
      "Surname :Cengiz\n",
      "Incorrect Enter\n",
      "Please try again later!\n",
      "Name :Asude\n",
      "Surname :Ceylan\n",
      "Incorrect Enter\n",
      "Please try again later!\n",
      "Name :Elif \n",
      "Surname :Yiğit\n",
      "Incorrect Enter\n",
      "Please try again later!\n"
     ]
    }
   ],
   "source": [
    "name=\"Cihat\"\n",
    "\n",
    "surname =\"Güleryüz\"\n",
    "\n",
    "giris_hakki=3\n",
    "\n",
    "while giris_hakki>0:\n",
    "    giris_hakki -=1\n",
    "\n",
    "    NaMe = input(\"Name :\")\n",
    "\n",
    "    SurName = input(\"Surname :\")\n",
    "\n",
    "    if NaMe==name and SurName== surname:\n",
    "\n",
    "        print(\"Enter name and surname\")\n",
    "\n",
    "    else:\n",
    "\n",
    "        print(\"Incorrect Enter\")\n",
    "        print(\"Please try again later!\")"
   ]
  },
  {
   "cell_type": "code",
   "execution_count": 5,
   "metadata": {},
   "outputs": [
    {
     "name": "stdout",
     "output_type": "stream",
     "text": [
      "{'Ali': 'Maths', 'Mehmet': 'Physics', 'Hakan': 'Data Science', 'Metin': 'Chemistry', 'Ahmet': 'Biology'}\n"
     ]
    }
   ],
   "source": [
    "Courses = [\"Maths\", \"Physics\",\"Data Science\", \"Chemistry\", \"Biology\"]\n",
    "Users = [\"Ali\", \"Mehmet\", \"Hakan\", \"Metin\", \"Ahmet\"]\n",
    "dictionary = dict(zip(Users, Courses))\n",
    "print(dictionary)"
   ]
  },
  {
   "cell_type": "code",
   "execution_count": 1,
   "metadata": {},
   "outputs": [
    {
     "name": "stdout",
     "output_type": "stream",
     "text": [
      "midterm grade: 25\n",
      "final grade: 30\n",
      "project grade : 20\n",
      "average : 26.5 \n",
      "get grade : FF = Failure\n"
     ]
    }
   ],
   "source": [
    "midterm = input(\"midterm grade: \")\n",
    "final = input(\"final grade: \")\n",
    "project = input(\"project grade : \")\n",
    "average = (float(midterm)*0.30) + (float(final)*0.50) + (float(project)*0.20)\n",
    "print(\"average : {} \".format( average))\n",
    "if (average> 90):\n",
    "    print(\"get grade : AA\")\n",
    "elif (average > 70 and average < 90):\n",
    "        print(\"get grade : BB\")\n",
    "elif ( average > 50 and average < 70):\n",
    "        print(\"get grade : CC\")\n",
    "elif ( average > 30 and average < 50):\n",
    "        print(\"get grade : DD\")\n",
    "elif ( average < 30):\n",
    "        print(\"get grade : FF = Failure\")\n",
    "    \n",
    "    \n",
    "    "
   ]
  },
  {
   "cell_type": "code",
   "execution_count": null,
   "metadata": {},
   "outputs": [],
   "source": []
  },
  {
   "cell_type": "code",
   "execution_count": null,
   "metadata": {},
   "outputs": [],
   "source": []
  },
  {
   "cell_type": "code",
   "execution_count": null,
   "metadata": {},
   "outputs": [],
   "source": []
  },
  {
   "cell_type": "code",
   "execution_count": null,
   "metadata": {},
   "outputs": [],
   "source": []
  },
  {
   "cell_type": "code",
   "execution_count": null,
   "metadata": {},
   "outputs": [],
   "source": []
  },
  {
   "cell_type": "code",
   "execution_count": null,
   "metadata": {},
   "outputs": [],
   "source": []
  },
  {
   "cell_type": "code",
   "execution_count": null,
   "metadata": {},
   "outputs": [],
   "source": []
  },
  {
   "cell_type": "code",
   "execution_count": null,
   "metadata": {},
   "outputs": [],
   "source": []
  },
  {
   "cell_type": "code",
   "execution_count": null,
   "metadata": {},
   "outputs": [],
   "source": []
  },
  {
   "cell_type": "code",
   "execution_count": null,
   "metadata": {},
   "outputs": [],
   "source": []
  },
  {
   "cell_type": "code",
   "execution_count": null,
   "metadata": {},
   "outputs": [],
   "source": []
  },
  {
   "cell_type": "code",
   "execution_count": null,
   "metadata": {},
   "outputs": [],
   "source": []
  },
  {
   "cell_type": "code",
   "execution_count": null,
   "metadata": {},
   "outputs": [],
   "source": []
  },
  {
   "cell_type": "code",
   "execution_count": null,
   "metadata": {},
   "outputs": [],
   "source": []
  },
  {
   "cell_type": "code",
   "execution_count": null,
   "metadata": {},
   "outputs": [],
   "source": []
  },
  {
   "cell_type": "code",
   "execution_count": null,
   "metadata": {},
   "outputs": [],
   "source": []
  },
  {
   "cell_type": "code",
   "execution_count": null,
   "metadata": {},
   "outputs": [],
   "source": []
  },
  {
   "cell_type": "code",
   "execution_count": null,
   "metadata": {},
   "outputs": [],
   "source": []
  },
  {
   "cell_type": "code",
   "execution_count": null,
   "metadata": {},
   "outputs": [],
   "source": []
  },
  {
   "cell_type": "code",
   "execution_count": null,
   "metadata": {},
   "outputs": [],
   "source": []
  },
  {
   "cell_type": "code",
   "execution_count": null,
   "metadata": {},
   "outputs": [],
   "source": []
  },
  {
   "cell_type": "code",
   "execution_count": null,
   "metadata": {},
   "outputs": [],
   "source": []
  },
  {
   "cell_type": "code",
   "execution_count": null,
   "metadata": {},
   "outputs": [],
   "source": []
  },
  {
   "cell_type": "code",
   "execution_count": null,
   "metadata": {},
   "outputs": [],
   "source": [
    "\n",
    "    "
   ]
  },
  {
   "cell_type": "code",
   "execution_count": null,
   "metadata": {},
   "outputs": [],
   "source": []
  },
  {
   "cell_type": "code",
   "execution_count": null,
   "metadata": {},
   "outputs": [],
   "source": []
  },
  {
   "cell_type": "code",
   "execution_count": null,
   "metadata": {},
   "outputs": [],
   "source": []
  },
  {
   "cell_type": "code",
   "execution_count": null,
   "metadata": {},
   "outputs": [],
   "source": []
  },
  {
   "cell_type": "code",
   "execution_count": null,
   "metadata": {},
   "outputs": [],
   "source": []
  },
  {
   "cell_type": "code",
   "execution_count": null,
   "metadata": {},
   "outputs": [],
   "source": []
  },
  {
   "cell_type": "code",
   "execution_count": null,
   "metadata": {},
   "outputs": [],
   "source": []
  },
  {
   "cell_type": "code",
   "execution_count": null,
   "metadata": {},
   "outputs": [],
   "source": []
  },
  {
   "cell_type": "code",
   "execution_count": null,
   "metadata": {},
   "outputs": [],
   "source": []
  },
  {
   "cell_type": "code",
   "execution_count": null,
   "metadata": {},
   "outputs": [],
   "source": []
  }
 ],
 "metadata": {
  "kernelspec": {
   "display_name": "Python 3",
   "language": "python",
   "name": "python3"
  },
  "language_info": {
   "codemirror_mode": {
    "name": "ipython",
    "version": 3
   },
   "file_extension": ".py",
   "mimetype": "text/x-python",
   "name": "python",
   "nbconvert_exporter": "python",
   "pygments_lexer": "ipython3",
   "version": "3.7.6"
  }
 },
 "nbformat": 4,
 "nbformat_minor": 4
}
